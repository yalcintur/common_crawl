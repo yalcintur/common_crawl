{
 "cells": [
  {
   "cell_type": "code",
   "execution_count": 3,
   "metadata": {},
   "outputs": [
    {
     "name": "stdout",
     "output_type": "stream",
     "text": [
      "Total entries: 18\n"
     ]
    }
   ],
   "source": [
    "import glob\n",
    "from typing import List\n",
    "\n",
    "def read_url_keys_from_file(file_path: str) -> List[str]:\n",
    "    with open(file_path, \"r\", encoding=\"utf-8\") as f:\n",
    "        return [line.strip() for line in f.readlines() if line.strip() != \"\"]\n",
    "\n",
    "    \n",
    "def read_filenames_from_dir(dir_path: str, extension: str) -> List[str]:\n",
    "    return glob.glob(f\"{dir_path}/*.{extension}\")\n",
    "\n",
    "\n",
    "SOURCE_DIR = \"C:\\Workzone\\common_crawl\\dummy_txt\"\n",
    "\n",
    "# Get all the files in the directory\n",
    "file_names = read_filenames_from_dir(SOURCE_DIR, \"txt\")\n",
    "\n",
    "entry_count = 0\n",
    "\n",
    "for file_name in file_names:\n",
    "    entry_count += len(read_url_keys_from_file(file_name))\n",
    "\n",
    "print(f\"Total entries: {entry_count}\")"
   ]
  }
 ],
 "metadata": {
  "kernelspec": {
   "display_name": "Python 3",
   "language": "python",
   "name": "python3"
  },
  "language_info": {
   "codemirror_mode": {
    "name": "ipython",
    "version": 3
   },
   "file_extension": ".py",
   "mimetype": "text/x-python",
   "name": "python",
   "nbconvert_exporter": "python",
   "pygments_lexer": "ipython3",
   "version": "3.11.6"
  }
 },
 "nbformat": 4,
 "nbformat_minor": 2
}
